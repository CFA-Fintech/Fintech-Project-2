{
 "cells": [
  {
   "cell_type": "markdown",
   "metadata": {},
   "source": [
    "# Support Vector Classifier Strategy\n",
    "\n",
    "In this notebook, you will learn to use the support vector classifier (SVC) algorithm and its step by step implementation on Apple stock. \n",
    "\n",
    "SVCs are supervised learning models. A set of training data is provided to the SVC algorithm, each belonging to one of the  categories. For instance, the categories can be either to buy or to sell a stock. The algorithm builds a model during training phase and assigns new data into one of the categories based on the model crated during the training phase."
   ]
  },
  {
   "cell_type": "markdown",
   "metadata": {},
   "source": [
    "# Importing the libraries"
   ]
  },
  {
   "cell_type": "code",
   "execution_count": 9,
   "metadata": {},
   "outputs": [],
   "source": [
    "# Machine learning\n",
    "from sklearn.svm import SVC\n",
    "from sklearn.metrics import make_scorer\n",
    "from sklearn.metrics import accuracy_score\n",
    "\n",
    "# For data manipulation\n",
    "import pandas as pd\n",
    "import numpy as np\n",
    "\n",
    "# To plot\n",
    "import matplotlib.pyplot as plt\n",
    "import seaborn\n",
    "\n",
    "# To fetch data\n",
    "from pandas_datareader import data as pdr   \n",
    "import yfinance as yf  \n",
    "yf.pdr_override()\n",
    "\n",
    "import warnings\n",
    "warnings.filterwarnings('ignore')\n"
   ]
  },
  {
   "cell_type": "markdown",
   "metadata": {},
   "source": [
    "# Downloading Apple stock data\n",
    "\n",
    "We will download Apple stock (\"AAPL\") data from yahoo finance."
   ]
  },
  {
   "cell_type": "code",
   "execution_count": 10,
   "metadata": {},
   "outputs": [
    {
     "name": "stdout",
     "output_type": "stream",
     "text": [
      "[*********************100%***********************]  1 of 1 completed\n"
     ]
    },
    {
     "data": {
      "image/png": "[encoded data removed]",
      "text/plain": [
       "<Figure size 720x360 with 1 Axes>"
      ]
     },
     "metadata": {
      "needs_background": "light"
     },
     "output_type": "display_data"
    }
   ],
   "source": [
    "Df = pdr.get_data_yahoo('AAPL', start=\"2016-01-06\", end=\"2021-01-05\")         \n",
    "Df= Df.dropna()\n",
    "Df.Close.plot(figsize=(10,5))\n",
    "plt.ylabel(\"Apple Price\")\n",
    "plt.show()"
   ]
  },
  {
   "cell_type": "markdown",
   "metadata": {},
   "source": [
    "# Determine the correct trading signal\n",
    "\n",
    "If tomorrow's price is greater than today's price then we will buy Apple stock, else we will sell the stock. We will store +1 for buy signal and -1 for sell signal in the Signal column. 'y' is a target dataset storing the correct trading signal which the machine learning algorithm will try to predict."
   ]
  },
  {
   "cell_type": "code",
   "execution_count": 11,
   "metadata": {},
   "outputs": [],
   "source": [
    "y = np.where(Df['Close'].shift(-1) > Df['Close'],1,-1)"
   ]
  },
  {
   "cell_type": "markdown",
   "metadata": {},
   "source": [
    "# Creation of predictors datasets\n",
    "\n",
    "The X is a dataset that holds the variables which are used to predict y, that is, whether Apple stock price will go up (1) or go down (-1) tomorrow. The X consists of variables such as 'Open - Close', 'High - Low' and 'Volume'. These can be understood as indicators based on which the algorithm will predict tomorrow's trend."
   ]
  },
  {
   "cell_type": "code",
   "execution_count": 22,
   "metadata": {},
   "outputs": [
    {
     "data": {
      "text/html": [
       "<div>\n",
       "<style scoped>\n",
       "    .dataframe tbody tr th:only-of-type {\n",
       "        vertical-align: middle;\n",
       "    }\n",
       "\n",
       "    .dataframe tbody tr th {\n",
       "        vertical-align: top;\n",
       "    }\n",
       "\n",
       "    .dataframe thead th {\n",
       "        text-align: right;\n",
       "    }\n",
       "</style>\n",
       "<table border=\"1\" class=\"dataframe\">\n",
       "  <thead>\n",
       "    <tr style=\"text-align: right;\">\n",
       "      <th></th>\n",
       "      <th>Open-Close</th>\n",
       "      <th>High-Low</th>\n",
       "      <th>Volume</th>\n",
       "    </tr>\n",
       "    <tr>\n",
       "      <th>Date</th>\n",
       "      <th></th>\n",
       "      <th></th>\n",
       "      <th></th>\n",
       "    </tr>\n",
       "  </thead>\n",
       "  <tbody>\n",
       "    <tr>\n",
       "      <th>2016-01-06</th>\n",
       "      <td>-0.035000</td>\n",
       "      <td>0.625000</td>\n",
       "      <td>273829600</td>\n",
       "    </tr>\n",
       "    <tr>\n",
       "      <th>2016-01-07</th>\n",
       "      <td>0.557501</td>\n",
       "      <td>0.924999</td>\n",
       "      <td>324377600</td>\n",
       "    </tr>\n",
       "    <tr>\n",
       "      <th>2016-01-08</th>\n",
       "      <td>0.397501</td>\n",
       "      <td>0.587500</td>\n",
       "      <td>283192000</td>\n",
       "    </tr>\n",
       "    <tr>\n",
       "      <th>2016-01-11</th>\n",
       "      <td>0.110001</td>\n",
       "      <td>0.430000</td>\n",
       "      <td>198957600</td>\n",
       "    </tr>\n",
       "    <tr>\n",
       "      <th>2016-01-12</th>\n",
       "      <td>0.147501</td>\n",
       "      <td>0.462502</td>\n",
       "      <td>196616800</td>\n",
       "    </tr>\n",
       "  </tbody>\n",
       "</table>\n",
       "</div>"
      ],
      "text/plain": [
       "            Open-Close  High-Low     Volume\n",
       "Date                                       \n",
       "2016-01-06   -0.035000  0.625000  273829600\n",
       "2016-01-07    0.557501  0.924999  324377600\n",
       "2016-01-08    0.397501  0.587500  283192000\n",
       "2016-01-11    0.110001  0.430000  198957600\n",
       "2016-01-12    0.147501  0.462502  196616800"
      ]
     },
     "execution_count": 22,
     "metadata": {},
     "output_type": "execute_result"
    }
   ],
   "source": [
    "Df['Open-Close'] = Df.Open - Df.Close\n",
    "Df['High-Low'] = Df.High - Df.Low\n",
    "Df['Volume'] = Df.Volume\n",
    "X=Df[['Open-Close','High-Low', 'Volume']]\n",
    "X.head()"
   ]
  },
  {
   "cell_type": "markdown",
   "metadata": {},
   "source": [
    "# Test and train data set split\n",
    "\n",
    "Now, we will split data into training and test data set. \n",
    "\n",
    "1. First 75% of data is used for training and remaining data for testing.\n",
    "2. X_train and y_train are training dataset.\n",
    "3. X_test and y_test are test dataset."
   ]
  },
  {
   "cell_type": "code",
   "execution_count": 18,
   "metadata": {},
   "outputs": [],
   "source": [
    "split_percentage = 0.75\n",
    "split = int(split_percentage*len(Df))\n",
    "\n",
    "# Train data set\n",
    "X_train = X[:split]\n",
    "y_train = y[:split] \n",
    "\n",
    "# Test data set\n",
    "X_test = X[split:]\n",
    "y_test = y[split:]"
   ]
  },
  {
   "cell_type": "markdown",
   "metadata": {},
   "source": [
    "# Support Vector Classifier (SVC)\n",
    "\n",
    "We will use SVC() function from sklearn.svm.SVC library for the classification and create our classifier model using fit() method on the training data set."
   ]
  },
  {
   "cell_type": "code",
   "execution_count": 19,
   "metadata": {},
   "outputs": [],
   "source": [
    "cls = SVC().fit(X_train, y_train)"
   ]
  },
  {
   "cell_type": "markdown",
   "metadata": {},
   "source": [
    "# Classifier accuracy\n",
    "We will compute the accuarcy of the algorithm on the train and test data set, by comparing the actual values of Signal with the predicted values of Signal. The function accuracy_score() will be used to calculate the accuracy.\n",
    "\n",
    "<B>Syntax:</B> accuracy_score(<font color=blue>target_actual_value</font>,<font color=blue>target_predicted_value</font>)\n",
    "1. <font color=blue>target_actual_value:</font> correct signal values\n",
    "2. <font color=blue>target_predicted_value:</font> predicted signal values"
   ]
  },
  {
   "cell_type": "code",
   "execution_count": 23,
   "metadata": {},
   "outputs": [
    {
     "name": "stdout",
     "output_type": "stream",
     "text": [
      "\n",
      "Train Accuracy: 54.93%\n",
      "Test Accuracy: 55.24%\n"
     ]
    }
   ],
   "source": [
    "accuracy_train = accuracy_score(y_train, cls.predict(X_train))\n",
    "accuracy_test = accuracy_score(y_test, cls.predict(X_test))\n",
    "\n",
    "print('\\nTrain Accuracy:{: .2f}%'.format(accuracy_train*100))\n",
    "print('Test Accuracy:{: .2f}%'.format(accuracy_test*100))"
   ]
  },
  {
   "cell_type": "markdown",
   "metadata": {},
   "source": [
    "An accuracy of 50%+ in test data suggests that the classifier model is effective."
   ]
  },
  {
   "cell_type": "markdown",
   "metadata": {},
   "source": [
    "# Prediction\n",
    "\n",
    "### Predict signal \n",
    "\n",
    "We will predict the signal (buy or sell) for the test data set, using the cls.predict() fucntion.\n",
    "\n",
    "### Compute returns in test period\n",
    "\n",
    "We will compute the strategy returns based on the predicted signal, and then save it in the column 'Strategy_Return' and plot the cumulative strategy returns."
   ]
  },
  {
   "cell_type": "markdown",
   "metadata": {},
   "source": [
    "# Strategy Implementation\n"
   ]
  },
  {
   "cell_type": "code",
   "execution_count": 21,
   "metadata": {},
   "outputs": [
    {
     "data": {
      "image/png": "[encoded data removed]",
      "text/plain": [
       "<Figure size 720x360 with 1 Axes>"
      ]
     },
     "metadata": {
      "needs_background": "light"
     },
     "output_type": "display_data"
    }
   ],
   "source": [
    "Df['Predicted_Signal'] = cls.predict(X)\n",
    "# Calculate log returns\n",
    "Df['Return'] = np.log(Df.Close.shift(-1) / Df.Close)*100\n",
    "Df['Strategy_Return'] = Df.Return * Df.Predicted_Signal\n",
    "Df.Strategy_Return.iloc[split:].cumsum().plot(figsize=(10,5))\n",
    "plt.ylabel(\"Strategy Returns (%)\")\n",
    "plt.show()"
   ]
  },
  {
   "cell_type": "markdown",
   "metadata": {},
   "source": [
    "As seen from the graph, the strategy generates a return of 75%+ for the test data set."
   ]
  },
  {
   "cell_type": "code",
   "execution_count": null,
   "metadata": {},
   "outputs": [],
   "source": []
  }
 ],
 "metadata": {
  "kernelspec": {
   "display_name": "Python 3",
   "language": "python",
   "name": "python3"
  },
  "language_info": {
   "codemirror_mode": {
    "name": "ipython",
    "version": 3
   },
   "file_extension": ".py",
   "mimetype": "text/x-python",
   "name": "python",
   "nbconvert_exporter": "python",
   "pygments_lexer": "ipython3",
   "version": "3.6.12"
  }
 },
 "nbformat": 4,
 "nbformat_minor": 4
}
